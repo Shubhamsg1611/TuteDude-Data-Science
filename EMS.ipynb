{
 "cells": [
  {
   "cell_type": "code",
   "execution_count": 1,
   "id": "0c9ea34a-51bc-4894-aa59-83f7a52395cc",
   "metadata": {},
   "outputs": [],
   "source": [
    "employees = {\n",
    "    101: {'name': 'Satya', 'age': 27, 'department': 'HR', 'salary': 50000},\n",
    "    102: {'name': 'Amit', 'age': 30, 'department': 'IT', 'salary': 70000},\n",
    "    103: {'name': 'Priya', 'age': 25, 'department': 'Finance', 'salary': 60000}\n",
    "}\n",
    "\n",
    "def main_menu():\n",
    "    while True:\n",
    "        print(\"\\nEmployee Management System\")\n",
    "        print(\"1. Add Employee\")\n",
    "        print(\"2. View All Employees\")\n",
    "        print(\"3. Search for Employee\")\n",
    "        print(\"4. Exit\")\n",
    "        choice = input(\"Enter your choice (1-4): \")\n",
    "        \n",
    "        if choice == '1':\n",
    "            add_employee()\n",
    "        elif choice == '2':\n",
    "            view_employees()\n",
    "        elif choice == '3':\n",
    "            search_employee()\n",
    "        elif choice == '4':\n",
    "            print(\"Thank you for using Employee Management System. Exiting...\")\n",
    "            break\n",
    "        else:\n",
    "            print(\"Invalid choice. Please enter a number between 1 and 4.\")\n"
   ]
  },
  {
   "cell_type": "code",
   "execution_count": 2,
   "id": "96d31525-d4df-4185-9627-409791b31b3e",
   "metadata": {},
   "outputs": [],
   "source": [
    "def add_employee():\n",
    "    try:\n",
    "        emp_id = int(input(\"Enter Employee ID: \"))\n",
    "        if emp_id in employees:\n",
    "            print(\"Employee ID already exists. Try a different ID.\")\n",
    "            return\n",
    "        \n",
    "        name = input(\"Enter Employee Name: \")\n",
    "        age = int(input(\"Enter Employee Age: \"))\n",
    "        department = input(\"Enter Employee Department: \")\n",
    "        salary = float(input(\"Enter Employee Salary: \"))\n",
    "        \n",
    "        employees[emp_id] = {'name': name, 'age': age, 'department': department, 'salary': salary}\n",
    "        print(\"Employee added successfully!\")\n",
    "    except ValueError:\n",
    "        print(\"Invalid input. Please enter correct details.\")"
   ]
  },
  {
   "cell_type": "code",
   "execution_count": 3,
   "id": "c569a996-563e-4ddd-82e3-6d9e27621b47",
   "metadata": {},
   "outputs": [],
   "source": [
    "def view_employees():\n",
    "    if not employees:\n",
    "        print(\"No employees available.\")\n",
    "        return\n",
    "    \n",
    "    print(\"\\nEmployee Details:\")\n",
    "    print(\"ID\\tName\\tAge\\tDepartment\\tSalary\")\n",
    "    print(\"-\" * 40)\n",
    "    for emp_id, details in employees.items():\n",
    "        print(f\"{emp_id}\\t{details['name']}\\t{details['age']}\\t{details['department']}\\t{details['salary']}\")"
   ]
  },
  {
   "cell_type": "code",
   "execution_count": 4,
   "id": "dadb72a4-2afb-4081-8ed0-cee994100014",
   "metadata": {},
   "outputs": [
    {
     "name": "stdout",
     "output_type": "stream",
     "text": [
      "\n",
      "Employee Management System\n",
      "1. Add Employee\n",
      "2. View All Employees\n",
      "3. Search for Employee\n",
      "4. Exit\n"
     ]
    },
    {
     "name": "stdin",
     "output_type": "stream",
     "text": [
      "Enter your choice (1-4):  4\n"
     ]
    },
    {
     "name": "stdout",
     "output_type": "stream",
     "text": [
      "Thank you for using Employee Management System. Exiting...\n"
     ]
    }
   ],
   "source": [
    "def search_employee():\n",
    "    try:\n",
    "        emp_id = int(input(\"Enter Employee ID to search: \"))\n",
    "        if emp_id in employees:\n",
    "            emp = employees[emp_id]\n",
    "            print(\"\\nEmployee Found:\")\n",
    "            print(f\"ID: {emp_id}, Name: {emp['name']}, Age: {emp['age']}, Department: {emp['department']}, Salary: {emp['salary']}\")\n",
    "        else:\n",
    "            print(\"Employee not found.\")\n",
    "    except ValueError:\n",
    "        print(\"Invalid input. Please enter a numeric Employee ID.\")\n",
    "\n",
    "if __name__ == \"__main__\":\n",
    "    main_menu()"
   ]
  }
 ],
 "metadata": {
  "kernelspec": {
   "display_name": "Python 3 (ipykernel)",
   "language": "python",
   "name": "python3"
  },
  "language_info": {
   "codemirror_mode": {
    "name": "ipython",
    "version": 3
   },
   "file_extension": ".py",
   "mimetype": "text/x-python",
   "name": "python",
   "nbconvert_exporter": "python",
   "pygments_lexer": "ipython3",
   "version": "3.11.5"
  }
 },
 "nbformat": 4,
 "nbformat_minor": 5
}
