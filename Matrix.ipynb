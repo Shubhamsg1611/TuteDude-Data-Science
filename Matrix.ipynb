{
 "cells": [
  {
   "cell_type": "code",
   "execution_count": 1,
   "id": "6f0516c6-6203-4048-95bf-6db382831f1b",
   "metadata": {},
   "outputs": [
    {
     "name": "stdout",
     "output_type": "stream",
     "text": [
      "Matrix-Vector multiplication (A * B):\n",
      "[14 32 50]\n",
      "Trace of matrix A: 15\n",
      "Eigenvalues of matrix A: [ 1.61168440e+01 -1.11684397e+00 -3.38433605e-16]\n",
      "Eigenvectors of matrix A:\n",
      "[[-0.23197069 -0.78583024  0.40824829]\n",
      " [-0.52532209 -0.08675134 -0.81649658]\n",
      " [-0.8186735   0.61232756  0.40824829]]\n"
     ]
    }
   ],
   "source": [
    "import numpy as np\n",
    "\n",
    "# 1. Matrix and Vector Operations\n",
    "\n",
    "# Create a 3x3 matrix A and a 3x1 vector B\n",
    "A = np.array([[1, 2, 3], [4, 5, 6], [7, 8, 9]])\n",
    "B = np.array([1, 2, 3])\n",
    "\n",
    "# - Perform matrix-vector multiplication A * B\n",
    "A_x_B = np.dot(A, B)\n",
    "print(\"Matrix-Vector multiplication (A * B):\")\n",
    "print(A_x_B)\n",
    "\n",
    "# - Calculate the trace of matrix A (sum of diagonal elements)\n",
    "trace_A = np.trace(A)\n",
    "print(f\"Trace of matrix A: {trace_A}\")\n",
    "\n",
    "# - Find the eigenvalues and eigenvectors of A\n",
    "eigenvalues, eigenvectors = np.linalg.eig(A)\n",
    "print(\"Eigenvalues of matrix A:\", eigenvalues)\n",
    "print(\"Eigenvectors of matrix A:\")\n",
    "print(eigenvectors)"
   ]
  },
  {
   "cell_type": "code",
   "execution_count": 2,
   "id": "a02fca8c-89d6-4966-b3d6-bae0d4de6496",
   "metadata": {},
   "outputs": [
    {
     "name": "stdout",
     "output_type": "stream",
     "text": [
      "\n",
      "Updated matrix A:\n",
      "[[ 1  2  3]\n",
      " [ 4  5  6]\n",
      " [10 11 12]]\n",
      "Determinant of updated matrix A: 2.86437540353291e-15\n",
      "The updated matrix A is non-singular.\n"
     ]
    }
   ],
   "source": [
    "# 2. Replace the last row of matrix A with [10, 11, 12]\n",
    "A[2] = [10, 11, 12]\n",
    "print(\"\\nUpdated matrix A:\")\n",
    "print(A)\n",
    "\n",
    "# - Compute the determinant of the updated matrix A\n",
    "det_A = np.linalg.det(A)\n",
    "print(f\"Determinant of updated matrix A: {det_A}\")\n",
    "\n",
    "# - Check if the matrix is singular or non-singular\n",
    "if det_A != 0:\n",
    "    print(\"The updated matrix A is non-singular.\")\n",
    "else:\n",
    "    print(\"The updated matrix A is singular.\")"
   ]
  },
  {
   "cell_type": "code",
   "execution_count": 3,
   "id": "aea6917a-2dde-4412-a184-7b78a61ea3a0",
   "metadata": {},
   "outputs": [
    {
     "name": "stdout",
     "output_type": "stream",
     "text": [
      "\n",
      "Inverse of updated matrix A:\n",
      "[[-2.09469750e+15  3.14204625e+15 -1.04734875e+15]\n",
      " [ 4.18939500e+15 -6.28409250e+15  2.09469750e+15]\n",
      " [-2.09469750e+15  3.14204625e+15 -1.04734875e+15]]\n",
      "\n",
      "Solution to the system of linear equations (A * X = B):\n",
      "[ 1.04734875e+15 -2.09469750e+15  1.04734875e+15]\n"
     ]
    }
   ],
   "source": [
    "# 3. Invertibility of Matrices\n",
    "\n",
    "# - Verify the invertibility of the updated matrix A\n",
    "if det_A != 0:\n",
    "    inverse_A = np.linalg.inv(A)\n",
    "    print(\"\\nInverse of updated matrix A:\")\n",
    "    print(inverse_A)\n",
    "else:\n",
    "    print(\"\\nMatrix A is singular, cannot compute inverse.\")\n",
    "\n",
    "# - Solve the system of linear equations A * X = B\n",
    "if det_A != 0:\n",
    "    X = np.linalg.solve(A, B)\n",
    "    print(\"\\nSolution to the system of linear equations (A * X = B):\")\n",
    "    print(X)\n",
    "else:\n",
    "    print(\"\\nCannot solve the system of equations, as matrix A is singular.\")"
   ]
  },
  {
   "cell_type": "code",
   "execution_count": 4,
   "id": "dd7274e8-38b3-4b30-9139-2c2088eb03e9",
   "metadata": {},
   "outputs": [
    {
     "name": "stdout",
     "output_type": "stream",
     "text": [
      "\n",
      "Matrix C:\n",
      "[[ 2  7 11  5]\n",
      " [ 9 17 13  4]\n",
      " [15 19 14 11]\n",
      " [18 15 18 19]]\n",
      "Rank of matrix C: 4\n",
      "Submatrix consisting of the first 2 rows and last 2 columns of C:\n",
      "[[11  5]\n",
      " [13  4]]\n",
      "Frobenius norm of matrix C: 53.76802023508026\n",
      "\n",
      "Matrix multiplication A * C:\n",
      "[[ 65  98  79]\n",
      " [143 227 193]\n",
      " [299 485 421]]\n"
     ]
    }
   ],
   "source": [
    "# 4. Practical Matrix Operations\n",
    "\n",
    "# Create a 4x4 matrix C with random integers between 1 and 20\n",
    "C = np.random.randint(1, 21, size=(4, 4))\n",
    "print(\"\\nMatrix C:\")\n",
    "print(C)\n",
    "\n",
    "# - Compute the rank of C\n",
    "rank_C = np.linalg.matrix_rank(C)\n",
    "print(f\"Rank of matrix C: {rank_C}\")\n",
    "\n",
    "# - Extract the submatrix consisting of the first 2 rows and last 2 columns of C\n",
    "submatrix_C = C[:2, -2:]\n",
    "print(\"Submatrix consisting of the first 2 rows and last 2 columns of C:\")\n",
    "print(submatrix_C)\n",
    "\n",
    "# - Calculate the Frobenius norm of C\n",
    "frobenius_norm_C = np.linalg.norm(C, 'fro')\n",
    "print(f\"Frobenius norm of matrix C: {frobenius_norm_C}\")\n",
    "\n",
    "# - Perform matrix multiplication between A and C (3x3) \n",
    "C_trimmed = C[:3, :3]  # Trim C to be 3x3 for compatibility with A\n",
    "if A.shape[1] == C_trimmed.shape[0]:\n",
    "    A_x_C = np.dot(A, C_trimmed)\n",
    "    print(\"\\nMatrix multiplication A * C:\")\n",
    "    print(A_x_C)\n",
    "else:\n",
    "    print(\"\\nMatrix multiplication A * C is not valid. Reshaping C.\")"
   ]
  },
  {
   "cell_type": "code",
   "execution_count": 5,
   "id": "89695b78-af72-440b-b5b5-dc29fdb23aa0",
   "metadata": {},
   "outputs": [
    {
     "name": "stdout",
     "output_type": "stream",
     "text": [
      "\n",
      "Dataset D:\n",
      "[[ 3  5  7  9 11]\n",
      " [ 2  4  6  8 10]\n",
      " [ 1  3  5  7  9]\n",
      " [ 4  6  8 10 12]\n",
      " [ 5  7  9 11 13]]\n",
      "\n",
      "Standardized dataset D (mean = 0, variance = 1):\n",
      "[[ 0.          0.          0.          0.          0.        ]\n",
      " [-0.70710678 -0.70710678 -0.70710678 -0.70710678 -0.70710678]\n",
      " [-1.41421356 -1.41421356 -1.41421356 -1.41421356 -1.41421356]\n",
      " [ 0.70710678  0.70710678  0.70710678  0.70710678  0.70710678]\n",
      " [ 1.41421356  1.41421356  1.41421356  1.41421356  1.41421356]]\n",
      "\n",
      "Covariance matrix of D:\n",
      "[[1.25 1.25 1.25 1.25 1.25]\n",
      " [1.25 1.25 1.25 1.25 1.25]\n",
      " [1.25 1.25 1.25 1.25 1.25]\n",
      " [1.25 1.25 1.25 1.25 1.25]\n",
      " [1.25 1.25 1.25 1.25 1.25]]\n",
      "\n",
      "Eigenvalues of covariance matrix:\n",
      "[ 6.25000000e+00 -3.69778549e-32 -4.19340966e-17  0.00000000e+00\n",
      " -2.28523622e-64]\n",
      "Eigenvectors of covariance matrix:\n",
      "[[ 4.47213595e-01 -2.01000734e-16 -3.25055279e-01 -4.98525175e-49\n",
      "   8.98516042e-34]\n",
      " [ 4.47213595e-01  8.66025404e-01  8.88074128e-01  5.96701066e-33\n",
      "  -1.29791556e-17]\n",
      " [ 4.47213595e-01 -2.88675135e-01 -1.87672950e-01 -5.16969603e-16\n",
      "   8.16496581e-01]\n",
      " [ 4.47213595e-01 -2.88675135e-01 -1.87672950e-01 -7.07106781e-01\n",
      "  -4.08248290e-01]\n",
      " [ 4.47213595e-01 -2.88675135e-01 -1.87672950e-01  7.07106781e-01\n",
      "  -4.08248290e-01]]\n",
      "\n",
      "Dataset D reduced to 2 principal components:\n",
      "[[ 0.00000000e+00  0.00000000e+00]\n",
      " [-1.58113883e+00 -9.33327137e-18]\n",
      " [-3.16227766e+00 -1.86665427e-17]\n",
      " [ 1.58113883e+00  9.33327137e-18]\n",
      " [ 3.16227766e+00  1.86665427e-17]]\n"
     ]
    }
   ],
   "source": [
    "# 5. Data Science Context\n",
    "\n",
    "# Create a dataset as a 5x5 matrix D\n",
    "D = np.array([[3, 5, 7, 9, 11],\n",
    "              [2, 4, 6, 8, 10],\n",
    "              [1, 3, 5, 7, 9],\n",
    "              [4, 6, 8, 10, 12],\n",
    "              [5, 7, 9, 11, 13]])\n",
    "\n",
    "print(\"\\nDataset D:\")\n",
    "print(D)\n",
    "\n",
    "# - Standardize D column-wise (mean = 0, variance = 1)\n",
    "D_standardized = (D - np.mean(D, axis=0)) / np.std(D, axis=0)\n",
    "print(\"\\nStandardized dataset D (mean = 0, variance = 1):\")\n",
    "print(D_standardized)\n",
    "\n",
    "# - Compute the covariance matrix of D\n",
    "cov_D = np.cov(D_standardized, rowvar=False)\n",
    "print(\"\\nCovariance matrix of D:\")\n",
    "print(cov_D)\n",
    "\n",
    "# - Perform Principal Component Analysis (PCA)\n",
    "eigenvalues_cov, eigenvectors_cov = np.linalg.eig(cov_D)\n",
    "print(\"\\nEigenvalues of covariance matrix:\")\n",
    "print(eigenvalues_cov)\n",
    "print(\"Eigenvectors of covariance matrix:\")\n",
    "print(eigenvectors_cov)\n",
    "\n",
    "# - Reduce D to 2 principal components\n",
    "D_reduced = D_standardized.dot(eigenvectors_cov[:, :2])\n",
    "print(\"\\nDataset D reduced to 2 principal components:\")\n",
    "print(D_reduced)"
   ]
  }
 ],
 "metadata": {
  "kernelspec": {
   "display_name": "Python 3 (ipykernel)",
   "language": "python",
   "name": "python3"
  },
  "language_info": {
   "codemirror_mode": {
    "name": "ipython",
    "version": 3
   },
   "file_extension": ".py",
   "mimetype": "text/x-python",
   "name": "python",
   "nbconvert_exporter": "python",
   "pygments_lexer": "ipython3",
   "version": "3.11.5"
  }
 },
 "nbformat": 4,
 "nbformat_minor": 5
}
