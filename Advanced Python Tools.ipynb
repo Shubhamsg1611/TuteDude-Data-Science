{
 "cells": [
  {
   "cell_type": "markdown",
   "id": "66257109-f0e6-4bb8-be0f-c9c20535d837",
   "metadata": {},
   "source": [
    "# Assignment 1 - Working with Numpy"
   ]
  },
  {
   "cell_type": "code",
   "execution_count": 2,
   "id": "a17980b0-4a5c-4fb1-8bee-6a43a48be7ad",
   "metadata": {},
   "outputs": [],
   "source": [
    "import numpy as np"
   ]
  },
  {
   "cell_type": "code",
   "execution_count": 3,
   "id": "081395f8-0117-43ab-886b-d3babaa73d06",
   "metadata": {},
   "outputs": [
    {
     "data": {
      "text/plain": [
       "(210,\n",
       " 10.5,\n",
       " 10.5,\n",
       " 5.766281297335398,\n",
       " (array([10, 11, 12, 13, 14, 15, 16, 17, 18, 19], dtype=int64),))"
      ]
     },
     "execution_count": 3,
     "metadata": {},
     "output_type": "execute_result"
    }
   ],
   "source": [
    "# Task 1: Create 1D Array. \n",
    "import numpy as np\n",
    "\n",
    "# Create a 1D array with integers from 1 to 20\n",
    "arr_1d = np.arange(1, 21)\n",
    "\n",
    "# Perform calculations\n",
    "arr_sum = np.sum(arr_1d)\n",
    "arr_mean = np.mean(arr_1d)\n",
    "arr_median = np.median(arr_1d)\n",
    "arr_std = np.std(arr_1d)\n",
    "\n",
    "# Find indices of elements greater than 10\n",
    "indices_gt_10 = np.where(arr_1d > 10)\n",
    "\n",
    "arr_sum, arr_mean, arr_median, arr_std, indices_gt_10"
   ]
  },
  {
   "cell_type": "code",
   "execution_count": 4,
   "id": "37510dfd-a004-4086-b56d-113280239599",
   "metadata": {},
   "outputs": [
    {
     "data": {
      "text/plain": [
       "(array([[ 1,  2,  3,  4],\n",
       "        [ 5,  6,  7,  8],\n",
       "        [ 9, 10, 11, 12],\n",
       "        [13, 14, 15, 16]]),\n",
       " array([[ 1,  5,  9, 13],\n",
       "        [ 2,  6, 10, 14],\n",
       "        [ 3,  7, 11, 15],\n",
       "        [ 4,  8, 12, 16]]),\n",
       " array([10, 26, 42, 58]),\n",
       " array([28, 32, 36, 40]))"
      ]
     },
     "execution_count": 4,
     "metadata": {},
     "output_type": "execute_result"
    }
   ],
   "source": [
    "# Task 2: Create a 4 X 4 2D Array. \n",
    "# Create a 4x4 array\n",
    "arr_2d = np.arange(1, 17).reshape(4, 4)\n",
    "\n",
    "# Transpose of the array\n",
    "arr_transpose = arr_2d.T\n",
    "\n",
    "# Row-wise and column-wise sum\n",
    "row_sum = np.sum(arr_2d, axis=1)\n",
    "col_sum = np.sum(arr_2d, axis=0)\n",
    "\n",
    "arr_2d, arr_transpose, row_sum, col_sum"
   ]
  },
  {
   "cell_type": "code",
   "execution_count": 5,
   "id": "3c37b69f-4814-4da9-87f1-ba167d7fac5c",
   "metadata": {},
   "outputs": [
    {
     "data": {
      "text/plain": [
       "(array([[12, 19, 11],\n",
       "        [12,  2,  2],\n",
       "        [14,  8, 14]]),\n",
       " array([[ 3, 18, 16],\n",
       "        [ 4,  8,  4],\n",
       "        [ 5,  2,  3]]),\n",
       " array([[15, 37, 27],\n",
       "        [16, 10,  6],\n",
       "        [19, 10, 17]]),\n",
       " array([[ 9,  1, -5],\n",
       "        [ 8, -6, -2],\n",
       "        [ 9,  6, 11]]),\n",
       " array([[ 36, 342, 176],\n",
       "        [ 48,  16,   8],\n",
       "        [ 70,  16,  42]]),\n",
       " array([[167, 390, 301],\n",
       "        [ 54, 236, 206],\n",
       "        [144, 344, 298]]))"
      ]
     },
     "execution_count": 5,
     "metadata": {},
     "output_type": "execute_result"
    }
   ],
   "source": [
    "# Task 3: Create 2 Random 3X3 Array.\n",
    "# Generate two 3x3 random arrays\n",
    "arr1 = np.random.randint(1, 21, (3, 3))\n",
    "arr2 = np.random.randint(1, 21, (3, 3))\n",
    "\n",
    "# Perform element-wise operations\n",
    "arr_add = arr1 + arr2\n",
    "arr_sub = arr1 - arr2\n",
    "arr_mul = arr1 * arr2\n",
    "\n",
    "# Compute dot product\n",
    "dot_product = np.dot(arr1, arr2)\n",
    "\n",
    "arr1, arr2, arr_add, arr_sub, arr_mul, dot_product\n"
   ]
  },
  {
   "cell_type": "code",
   "execution_count": 6,
   "id": "9b1a64a9-07e3-440b-82e5-88413ece4273",
   "metadata": {},
   "outputs": [
    {
     "data": {
      "text/plain": [
       "(array([[ 1,  2,  3,  4],\n",
       "        [ 5,  6,  7,  8],\n",
       "        [ 9, 10, 11, 12]]),\n",
       " array([[3, 4],\n",
       "        [7, 8]]))"
      ]
     },
     "execution_count": 6,
     "metadata": {},
     "output_type": "execute_result"
    }
   ],
   "source": [
    "#Task 4: Reshape and Slice a 1D Array\n",
    "# Create a 1D array of size 12 and reshape it\n",
    "arr_reshaped = np.arange(1, 13).reshape(3, 4)\n",
    "\n",
    "# Slice the first two rows and last two columns\n",
    "arr_sliced = arr_reshaped[:2, -2:]\n",
    "\n",
    "arr_reshaped, arr_sliced"
   ]
  },
  {
   "cell_type": "markdown",
   "id": "1f046038-5678-46a8-a09a-83e4b7bbddc4",
   "metadata": {},
   "source": [
    "# Assignment 2 - Working with Pandas"
   ]
  },
  {
   "cell_type": "code",
   "execution_count": 8,
   "id": "510d87b7-f40e-4fef-8c33-9e56e06c5164",
   "metadata": {},
   "outputs": [
    {
     "data": {
      "text/plain": [
       "(      Name  Age Department  Salary\n",
       " 0    Alice   24         HR   45000\n",
       " 1      Bob   27    Finance   54000\n",
       " 2  Charlie   22         IT   50000\n",
       " 3    Diana   32  Marketing   62000\n",
       " 4      Eve   29         HR   47000,\n",
       " 46000.0)"
      ]
     },
     "execution_count": 8,
     "metadata": {},
     "output_type": "execute_result"
    }
   ],
   "source": [
    "# Task 1: Create a Dataframe\n",
    "\n",
    "import pandas as pd\n",
    "\n",
    "data = {\n",
    "    'Name': ['Alice', 'Bob', 'Charlie', 'Diana', 'Eve'],\n",
    "    'Age': [24, 27, 22, 32, 29],\n",
    "    'Department': ['HR', 'Finance', 'IT', 'Marketing', 'HR'],\n",
    "    'Salary': [45000, 54000, 50000, 62000, 47000]\n",
    "}\n",
    "\n",
    "df = pd.DataFrame(data)\n",
    "\n",
    "# Print first five rows\n",
    "df.head()\n",
    "\n",
    "# Summary statistics for Age and Salary\n",
    "df[['Age', 'Salary']].describe()\n",
    "\n",
    "# Average salary in HR department\n",
    "avg_salary_hr = df[df['Department'] == 'HR']['Salary'].mean()\n",
    "\n",
    "df, avg_salary_hr"
   ]
  },
  {
   "cell_type": "code",
   "execution_count": 9,
   "id": "43bab5e2-d468-4589-945b-9f383591aa4d",
   "metadata": {},
   "outputs": [
    {
     "data": {
      "text/html": [
       "<div>\n",
       "<style scoped>\n",
       "    .dataframe tbody tr th:only-of-type {\n",
       "        vertical-align: middle;\n",
       "    }\n",
       "\n",
       "    .dataframe tbody tr th {\n",
       "        vertical-align: top;\n",
       "    }\n",
       "\n",
       "    .dataframe thead th {\n",
       "        text-align: right;\n",
       "    }\n",
       "</style>\n",
       "<table border=\"1\" class=\"dataframe\">\n",
       "  <thead>\n",
       "    <tr style=\"text-align: right;\">\n",
       "      <th></th>\n",
       "      <th>Name</th>\n",
       "      <th>Age</th>\n",
       "      <th>Department</th>\n",
       "      <th>Salary</th>\n",
       "      <th>Bonus</th>\n",
       "    </tr>\n",
       "  </thead>\n",
       "  <tbody>\n",
       "    <tr>\n",
       "      <th>0</th>\n",
       "      <td>Alice</td>\n",
       "      <td>24</td>\n",
       "      <td>HR</td>\n",
       "      <td>45000</td>\n",
       "      <td>4500.0</td>\n",
       "    </tr>\n",
       "    <tr>\n",
       "      <th>1</th>\n",
       "      <td>Bob</td>\n",
       "      <td>27</td>\n",
       "      <td>Finance</td>\n",
       "      <td>54000</td>\n",
       "      <td>5400.0</td>\n",
       "    </tr>\n",
       "    <tr>\n",
       "      <th>2</th>\n",
       "      <td>Charlie</td>\n",
       "      <td>22</td>\n",
       "      <td>IT</td>\n",
       "      <td>50000</td>\n",
       "      <td>5000.0</td>\n",
       "    </tr>\n",
       "    <tr>\n",
       "      <th>3</th>\n",
       "      <td>Diana</td>\n",
       "      <td>32</td>\n",
       "      <td>Marketing</td>\n",
       "      <td>62000</td>\n",
       "      <td>6200.0</td>\n",
       "    </tr>\n",
       "    <tr>\n",
       "      <th>4</th>\n",
       "      <td>Eve</td>\n",
       "      <td>29</td>\n",
       "      <td>HR</td>\n",
       "      <td>47000</td>\n",
       "      <td>4700.0</td>\n",
       "    </tr>\n",
       "  </tbody>\n",
       "</table>\n",
       "</div>"
      ],
      "text/plain": [
       "      Name  Age Department  Salary   Bonus\n",
       "0    Alice   24         HR   45000  4500.0\n",
       "1      Bob   27    Finance   54000  5400.0\n",
       "2  Charlie   22         IT   50000  5000.0\n",
       "3    Diana   32  Marketing   62000  6200.0\n",
       "4      Eve   29         HR   47000  4700.0"
      ]
     },
     "execution_count": 9,
     "metadata": {},
     "output_type": "execute_result"
    }
   ],
   "source": [
    "# Task 2: Add a bonus columns\n",
    "\n",
    "df['Bonus'] = df['Salary'] * 0.10\n",
    "df"
   ]
  },
  {
   "cell_type": "code",
   "execution_count": 10,
   "id": "a9bff384-874b-4909-8bb7-8eb5763d46a6",
   "metadata": {},
   "outputs": [
    {
     "data": {
      "text/html": [
       "<div>\n",
       "<style scoped>\n",
       "    .dataframe tbody tr th:only-of-type {\n",
       "        vertical-align: middle;\n",
       "    }\n",
       "\n",
       "    .dataframe tbody tr th {\n",
       "        vertical-align: top;\n",
       "    }\n",
       "\n",
       "    .dataframe thead th {\n",
       "        text-align: right;\n",
       "    }\n",
       "</style>\n",
       "<table border=\"1\" class=\"dataframe\">\n",
       "  <thead>\n",
       "    <tr style=\"text-align: right;\">\n",
       "      <th></th>\n",
       "      <th>Name</th>\n",
       "      <th>Age</th>\n",
       "      <th>Department</th>\n",
       "      <th>Salary</th>\n",
       "      <th>Bonus</th>\n",
       "    </tr>\n",
       "  </thead>\n",
       "  <tbody>\n",
       "    <tr>\n",
       "      <th>1</th>\n",
       "      <td>Bob</td>\n",
       "      <td>27</td>\n",
       "      <td>Finance</td>\n",
       "      <td>54000</td>\n",
       "      <td>5400.0</td>\n",
       "    </tr>\n",
       "    <tr>\n",
       "      <th>4</th>\n",
       "      <td>Eve</td>\n",
       "      <td>29</td>\n",
       "      <td>HR</td>\n",
       "      <td>47000</td>\n",
       "      <td>4700.0</td>\n",
       "    </tr>\n",
       "  </tbody>\n",
       "</table>\n",
       "</div>"
      ],
      "text/plain": [
       "  Name  Age Department  Salary   Bonus\n",
       "1  Bob   27    Finance   54000  5400.0\n",
       "4  Eve   29         HR   47000  4700.0"
      ]
     },
     "execution_count": 10,
     "metadata": {},
     "output_type": "execute_result"
    }
   ],
   "source": [
    "# Task 3: Filter Employees Aged 25-30\n",
    "\n",
    "filtered_df = df[(df['Age'] >= 25) & (df['Age'] <= 30)]\n",
    "filtered_df"
   ]
  },
  {
   "cell_type": "code",
   "execution_count": 11,
   "id": "59ee2b2a-64c1-46ae-a337-84042c60cb34",
   "metadata": {},
   "outputs": [
    {
     "data": {
      "text/plain": [
       "Department\n",
       "Finance      54000.0\n",
       "HR           46000.0\n",
       "IT           50000.0\n",
       "Marketing    62000.0\n",
       "Name: Salary, dtype: float64"
      ]
     },
     "execution_count": 11,
     "metadata": {},
     "output_type": "execute_result"
    }
   ],
   "source": [
    "# Task 4: Group by Department & Calculate Average Salary\n",
    "\n",
    "dept_avg_salary = df.groupby('Department')['Salary'].mean()\n",
    "dept_avg_salary"
   ]
  },
  {
   "cell_type": "code",
   "execution_count": 12,
   "id": "5f14719a-e267-4486-95c3-5cb5b5cf8fd6",
   "metadata": {},
   "outputs": [
    {
     "data": {
      "text/html": [
       "<div>\n",
       "<style scoped>\n",
       "    .dataframe tbody tr th:only-of-type {\n",
       "        vertical-align: middle;\n",
       "    }\n",
       "\n",
       "    .dataframe tbody tr th {\n",
       "        vertical-align: top;\n",
       "    }\n",
       "\n",
       "    .dataframe thead th {\n",
       "        text-align: right;\n",
       "    }\n",
       "</style>\n",
       "<table border=\"1\" class=\"dataframe\">\n",
       "  <thead>\n",
       "    <tr style=\"text-align: right;\">\n",
       "      <th></th>\n",
       "      <th>Name</th>\n",
       "      <th>Age</th>\n",
       "      <th>Department</th>\n",
       "      <th>Salary</th>\n",
       "      <th>Bonus</th>\n",
       "    </tr>\n",
       "  </thead>\n",
       "  <tbody>\n",
       "    <tr>\n",
       "      <th>0</th>\n",
       "      <td>Alice</td>\n",
       "      <td>24</td>\n",
       "      <td>HR</td>\n",
       "      <td>45000</td>\n",
       "      <td>4500.0</td>\n",
       "    </tr>\n",
       "    <tr>\n",
       "      <th>4</th>\n",
       "      <td>Eve</td>\n",
       "      <td>29</td>\n",
       "      <td>HR</td>\n",
       "      <td>47000</td>\n",
       "      <td>4700.0</td>\n",
       "    </tr>\n",
       "    <tr>\n",
       "      <th>2</th>\n",
       "      <td>Charlie</td>\n",
       "      <td>22</td>\n",
       "      <td>IT</td>\n",
       "      <td>50000</td>\n",
       "      <td>5000.0</td>\n",
       "    </tr>\n",
       "    <tr>\n",
       "      <th>1</th>\n",
       "      <td>Bob</td>\n",
       "      <td>27</td>\n",
       "      <td>Finance</td>\n",
       "      <td>54000</td>\n",
       "      <td>5400.0</td>\n",
       "    </tr>\n",
       "    <tr>\n",
       "      <th>3</th>\n",
       "      <td>Diana</td>\n",
       "      <td>32</td>\n",
       "      <td>Marketing</td>\n",
       "      <td>62000</td>\n",
       "      <td>6200.0</td>\n",
       "    </tr>\n",
       "  </tbody>\n",
       "</table>\n",
       "</div>"
      ],
      "text/plain": [
       "      Name  Age Department  Salary   Bonus\n",
       "0    Alice   24         HR   45000  4500.0\n",
       "4      Eve   29         HR   47000  4700.0\n",
       "2  Charlie   22         IT   50000  5000.0\n",
       "1      Bob   27    Finance   54000  5400.0\n",
       "3    Diana   32  Marketing   62000  6200.0"
      ]
     },
     "execution_count": 12,
     "metadata": {},
     "output_type": "execute_result"
    }
   ],
   "source": [
    "# Task 5: Sort Dataframe by Salary & Save to CSV\n",
    "\n",
    "df_sorted = df.sort_values(by='Salary', ascending=True)\n",
    "df_sorted.to_csv('sorted_salaries.csv', index=False)\n",
    "df_sorted"
   ]
  },
  {
   "cell_type": "markdown",
   "id": "7ad8013d-c4bc-44fc-9431-cfda4a2d6810",
   "metadata": {},
   "source": [
    "# Assignment 3 - Working with Matplotlib "
   ]
  },
  {
   "cell_type": "code",
   "execution_count": 14,
   "id": "a43064be-b262-4dcc-a423-6c5467b32f50",
   "metadata": {},
   "outputs": [
    {
     "name": "stdout",
     "output_type": "stream",
     "text": [
      "Requirement already satisfied: matplotlib in c:\\programdata\\anaconda\\lib\\site-packages (3.7.2)\n",
      "Requirement already satisfied: contourpy>=1.0.1 in c:\\programdata\\anaconda\\lib\\site-packages (from matplotlib) (1.0.5)\n",
      "Requirement already satisfied: cycler>=0.10 in c:\\programdata\\anaconda\\lib\\site-packages (from matplotlib) (0.11.0)\n",
      "Requirement already satisfied: fonttools>=4.22.0 in c:\\programdata\\anaconda\\lib\\site-packages (from matplotlib) (4.25.0)\n",
      "Requirement already satisfied: kiwisolver>=1.0.1 in c:\\programdata\\anaconda\\lib\\site-packages (from matplotlib) (1.4.4)\n",
      "Requirement already satisfied: numpy>=1.20 in c:\\programdata\\anaconda\\lib\\site-packages (from matplotlib) (1.24.3)\n",
      "Requirement already satisfied: packaging>=20.0 in c:\\programdata\\anaconda\\lib\\site-packages (from matplotlib) (23.1)\n",
      "Requirement already satisfied: pillow>=6.2.0 in c:\\programdata\\anaconda\\lib\\site-packages (from matplotlib) (10.0.1)\n",
      "Requirement already satisfied: pyparsing<3.1,>=2.3.1 in c:\\programdata\\anaconda\\lib\\site-packages (from matplotlib) (3.0.9)\n",
      "Requirement already satisfied: python-dateutil>=2.7 in c:\\programdata\\anaconda\\lib\\site-packages (from matplotlib) (2.8.2)\n",
      "Requirement already satisfied: six>=1.5 in c:\\programdata\\anaconda\\lib\\site-packages (from python-dateutil>=2.7->matplotlib) (1.16.0)\n",
      "Note: you may need to restart the kernel to use updated packages.\n"
     ]
    },
    {
     "name": "stderr",
     "output_type": "stream",
     "text": [
      "DEPRECATION: Loading egg at c:\\programdata\\anaconda\\lib\\site-packages\\vboxapi-1.0-py3.11.egg is deprecated. pip 23.3 will enforce this behaviour change. A possible replacement is to use pip for package installation..\n"
     ]
    }
   ],
   "source": [
    "pip install matplotlib"
   ]
  },
  {
   "cell_type": "code",
   "execution_count": 44,
   "id": "5e3391ee-4f6f-40cf-bf9b-d40208676b53",
   "metadata": {},
   "outputs": [
    {
     "data": {
      "image/png": "[encoded data removed]",
      "text/plain": [
       "<Figure size 640x480 with 1 Axes>"
      ]
     },
     "metadata": {},
     "output_type": "display_data"
    }
   ],
   "source": [
    "# Task 1: Line Plot\n",
    "\n",
    "import matplotlib.pyplot as plt\n",
    "\n",
    "x = [1, 2, 3, 4, 5]\n",
    "y = [10, 15, 25, 30, 50]\n",
    "\n",
    "plt.plot(x, y, marker='o', linestyle='-', color='black')\n",
    "plt.title(\"Simple Line Plot\")\n",
    "plt.xlabel(\"X-axis\")\n",
    "plt.ylabel(\"Y-axis\")\n",
    "plt.grid(True)\n",
    "plt.show()"
   ]
  },
  {
   "cell_type": "code",
   "execution_count": 16,
   "id": "d515891d-aa22-483f-b071-f5ad8a2cc4b6",
   "metadata": {},
   "outputs": [
    {
     "data": {
      "image/png": "[encoded data removed]",
      "text/plain": [
       "<Figure size 640x480 with 1 Axes>"
      ]
     },
     "metadata": {},
     "output_type": "display_data"
    }
   ],
   "source": [
    "# Task 2: Bar Chart\n",
    "\n",
    "students = ['John', 'Jane', 'Alice', 'Bob']\n",
    "marks = [75, 85, 60, 90]\n",
    "\n",
    "plt.bar(students, marks, color=['blue', 'green', 'red', 'purple'])\n",
    "plt.title(\"Marks Scored by Students\")\n",
    "plt.xlabel(\"Students\")\n",
    "plt.ylabel(\"Marks\")\n",
    "plt.show()"
   ]
  },
  {
   "cell_type": "code",
   "execution_count": 17,
   "id": "5a385970-aff9-436d-9aaa-c775dccbff98",
   "metadata": {},
   "outputs": [
    {
     "data": {
      "image/png": "[encoded data removed]",
      "text/plain": [
       "<Figure size 640x480 with 1 Axes>"
      ]
     },
     "metadata": {},
     "output_type": "display_data"
    }
   ],
   "source": [
    "# Task 3: Pie Chart\n",
    "\n",
    "regions = ['North America', 'Europe', 'Asia', 'Others']\n",
    "revenue = [45, 25, 20, 10]\n",
    "\n",
    "explode = (0.1, 0, 0, 0)  # Highlight the highest revenue region\n",
    "plt.pie(revenue, labels=regions, autopct='%1.1f%%', explode=explode, shadow=True, startangle=140)\n",
    "plt.title(\"Company Revenue Distribution\")\n",
    "plt.show()"
   ]
  },
  {
   "cell_type": "code",
   "execution_count": 36,
   "id": "de087361-38a4-4e90-bc85-3cb71f071e70",
   "metadata": {},
   "outputs": [
    {
     "data": {
      "image/png": "[encoded data removed]",
      "text/plain": [
       "<Figure size 640x480 with 1 Axes>"
      ]
     },
     "metadata": {},
     "output_type": "display_data"
    }
   ],
   "source": [
    "# Task 4: Histogram\n",
    "\n",
    "data = np.random.randint(1, 101, 1000)  # Generate 1000 random numbers between 1-100\n",
    "\n",
    "plt.hist(data, bins=10, color='black', edgecolor='white')\n",
    "plt.title(\"Frequency Distribution\")\n",
    "plt.xlabel(\"Value Range\")\n",
    "plt.ylabel(\"Frequency\")\n",
    "plt.show()"
   ]
  }
 ],
 "metadata": {
  "kernelspec": {
   "display_name": "Python 3 (ipykernel)",
   "language": "python",
   "name": "python3"
  },
  "language_info": {
   "codemirror_mode": {
    "name": "ipython",
    "version": 3
   },
   "file_extension": ".py",
   "mimetype": "text/x-python",
   "name": "python",
   "nbconvert_exporter": "python",
   "pygments_lexer": "ipython3",
   "version": "3.11.5"
  }
 },
 "nbformat": 4,
 "nbformat_minor": 5
}
